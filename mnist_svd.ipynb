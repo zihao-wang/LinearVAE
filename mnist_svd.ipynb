{
 "cells": [
  {
   "cell_type": "code",
   "execution_count": 35,
   "metadata": {},
   "outputs": [],
   "source": [
    "from torchvision.datasets import MNIST\n",
    "from torchvision import transforms\n",
    "import numpy as np\n",
    "from synthetic_dataset import get_synthetic_vae_dataset\n"
   ]
  },
  {
   "cell_type": "code",
   "execution_count": 60,
   "metadata": {},
   "outputs": [],
   "source": [
    "def compute_singular_value_sum_of_dataset(dataset_array, size=100):\n",
    "    x = dataset_array.astype(float)\n",
    "    x = x[:size]\n",
    "    x -= x.mean(0, keepdims=True)\n",
    "    A = x.T.dot(x) / len(x)\n",
    "    _, S, _ = np.linalg.svd(A)\n",
    "    print(len(S))\n",
    "    print(S.sum())\n",
    "    print(S[:5])\n",
    "    print(np.trace(A))"
   ]
  },
  {
   "cell_type": "code",
   "execution_count": 61,
   "metadata": {},
   "outputs": [
    {
     "name": "stdout",
     "output_type": "stream",
     "text": [
      "1000\n",
      "1001.2882652820198\n",
      "[4.07299437 3.97271567 3.93062319 3.88163157 3.8624658 ]\n",
      "1001.2882652820197\n"
     ]
    }
   ],
   "source": [
    "dataset = get_synthetic_vae_dataset(60000, 1000, singular_values=[1] * 1000)\n",
    "dataset_array = dataset.tensors[0].numpy()\n",
    "compute_singular_value_sum_of_dataset(dataset_array, size=1000)"
   ]
  },
  {
   "cell_type": "code",
   "execution_count": 62,
   "metadata": {},
   "outputs": [
    {
     "name": "stdout",
     "output_type": "stream",
     "text": [
      "784\n",
      "2811403.34000004\n",
      "[634988.91468575 471318.20478926 373493.38967293 338512.7527636\n",
      " 297807.26357298]\n",
      "2811403.34\n"
     ]
    }
   ],
   "source": [
    "mnist_dataset = MNIST(root='dataset', transform=transforms.ToTensor())\n",
    "mnist_samples = mnist_dataset.data.reshape(60000, -1).numpy()\n",
    "compute_singular_value_sum_of_dataset(mnist_samples, size=10)"
   ]
  },
  {
   "cell_type": "code",
   "execution_count": null,
   "metadata": {},
   "outputs": [],
   "source": []
  }
 ],
 "metadata": {
  "interpreter": {
   "hash": "7abe3cfd65fcba439c7ccba03648698e2e9f7f79a5e95fc5ff87ab0b775c45e6"
  },
  "kernelspec": {
   "display_name": "Python 3.9.7 ('base')",
   "language": "python",
   "name": "python3"
  },
  "language_info": {
   "codemirror_mode": {
    "name": "ipython",
    "version": 3
   },
   "file_extension": ".py",
   "mimetype": "text/x-python",
   "name": "python",
   "nbconvert_exporter": "python",
   "pygments_lexer": "ipython3",
   "version": "3.9.7"
  },
  "orig_nbformat": 4
 },
 "nbformat": 4,
 "nbformat_minor": 2
}
