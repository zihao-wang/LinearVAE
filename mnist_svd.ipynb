{
 "cells": [
  {
   "cell_type": "code",
   "execution_count": 79,
   "metadata": {},
   "outputs": [],
   "source": [
    "from torchvision.datasets import MNIST\n",
    "from torchvision import transforms\n",
    "import numpy as np\n",
    "from synthetic_dataset import get_synthetic_vae_dataset\n",
    "from sklearn.decomposition import TruncatedSVD"
   ]
  },
  {
   "cell_type": "code",
   "execution_count": 122,
   "metadata": {},
   "outputs": [],
   "source": [
    "def compute_singular_value_sum_of_dataset(dataset_array, size=-1):\n",
    "    x = dataset_array.astype(float)\n",
    "    if size > 0: x = x[:size]\n",
    "    print(x.shape)\n",
    "    x -= x.mean(0, keepdims=True)\n",
    "    A = x.T.dot(x) / len(x)\n",
    "    print(np.trace(A))\n",
    "    _, S, _ = np.linalg.svd(A)\n",
    "    print(len(S))\n",
    "    print(S.sum())\n",
    "    print(S[:5], S[5:].sum())\n",
    "    # print(TruncatedSVD(n_components=5).fit(A).singular_values_)"
   ]
  },
  {
   "cell_type": "code",
   "execution_count": 117,
   "metadata": {},
   "outputs": [
    {
     "name": "stdout",
     "output_type": "stream",
     "text": [
      "(100, 10)\n",
      "10.622280523358091\n",
      "10\n",
      "10.62228052335809\n",
      "[1.89406419 1.61169189 1.31479706 1.10927653 1.04741609] [0.9566399  0.79169915 0.72971882 0.66657397 0.50040292]\n"
     ]
    }
   ],
   "source": [
    "latent_dim = 10\n",
    "dataset = get_synthetic_vae_dataset(100, latent_dim, singular_values=[1] * latent_dim)\n",
    "dataset_array = dataset.tensors[0].numpy()\n",
    "compute_singular_value_sum_of_dataset(dataset_array)"
   ]
  },
  {
   "cell_type": "code",
   "execution_count": 118,
   "metadata": {},
   "outputs": [
    {
     "name": "stdout",
     "output_type": "stream",
     "text": [
      "(10000, 10)\n",
      "9.969345558046937\n",
      "10\n",
      "9.969345558046937\n",
      "[1.05133416 1.04090461 1.01202973 1.00598891 0.9967857 ] [0.99006979 0.98530742 0.98254384 0.95796461 0.94641676]\n"
     ]
    }
   ],
   "source": [
    "latent_dim = 10\n",
    "dataset = get_synthetic_vae_dataset(10000, latent_dim, singular_values=[1] * latent_dim)\n",
    "dataset_array = dataset.tensors[0].numpy()\n",
    "compute_singular_value_sum_of_dataset(dataset_array)"
   ]
  },
  {
   "cell_type": "code",
   "execution_count": 124,
   "metadata": {},
   "outputs": [
    {
     "name": "stdout",
     "output_type": "stream",
     "text": [
      "(60000, 784)\n",
      "52.72503549512684\n",
      "784\n",
      "52.725035495126846\n",
      "[5.11678773 3.74132848 3.25265424 2.84157334 2.56707496] 35.20561675215616\n"
     ]
    }
   ],
   "source": [
    "mnist_dataset = MNIST(root='dataset', transform=transforms.ToTensor())\n",
    "mnist_samples = mnist_dataset.train_data.reshape(60000, -1).numpy() / 255\n",
    "compute_singular_value_sum_of_dataset(mnist_samples, size=-1)"
   ]
  },
  {
   "cell_type": "code",
   "execution_count": 113,
   "metadata": {},
   "outputs": [
    {
     "data": {
      "text/plain": [
       "87.81002182417019"
      ]
     },
     "execution_count": 113,
     "metadata": {},
     "output_type": "execute_result"
    }
   ],
   "source": [
    "(np.linalg.norm(mnist_samples, axis=-1)**2).mean()"
   ]
  },
  {
   "cell_type": "code",
   "execution_count": null,
   "metadata": {},
   "outputs": [],
   "source": []
  }
 ],
 "metadata": {
  "interpreter": {
   "hash": "7abe3cfd65fcba439c7ccba03648698e2e9f7f79a5e95fc5ff87ab0b775c45e6"
  },
  "kernelspec": {
   "display_name": "Python 3.9.7 ('base')",
   "language": "python",
   "name": "python3"
  },
  "language_info": {
   "codemirror_mode": {
    "name": "ipython",
    "version": 3
   },
   "file_extension": ".py",
   "mimetype": "text/x-python",
   "name": "python",
   "nbconvert_exporter": "python",
   "pygments_lexer": "ipython3",
   "version": "3.9.7"
  },
  "orig_nbformat": 4
 },
 "nbformat": 4,
 "nbformat_minor": 2
}
